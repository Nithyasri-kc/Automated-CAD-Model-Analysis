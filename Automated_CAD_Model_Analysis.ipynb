{
  "nbformat": 4,
  "nbformat_minor": 0,
  "metadata": {
    "colab": {
      "provenance": [],
      "authorship_tag": "ABX9TyOkSlnwtkC2DoiqAnsIQta2",
      "include_colab_link": true
    },
    "kernelspec": {
      "name": "python3",
      "display_name": "Python 3"
    },
    "language_info": {
      "name": "python"
    }
  },
  "cells": [
    {
      "cell_type": "markdown",
      "metadata": {
        "id": "view-in-github",
        "colab_type": "text"
      },
      "source": [
        "<a href=\"https://colab.research.google.com/github/Nithyasri-kc/Automated-CAD-Model-Analysis/blob/main/Automated_CAD_Model_Analysis.ipynb\" target=\"_parent\"><img src=\"https://colab.research.google.com/assets/colab-badge.svg\" alt=\"Open In Colab\"/></a>"
      ]
    },
    {
      "cell_type": "code",
      "execution_count": 1,
      "metadata": {
        "colab": {
          "base_uri": "https://localhost:8080/"
        },
        "id": "p4PSliIxZvzV",
        "outputId": "897e1be5-ce52-4d0c-cefa-931e81e80190"
      },
      "outputs": [
        {
          "output_type": "stream",
          "name": "stdout",
          "text": [
            "Collecting numpy-stl\n",
            "  Downloading numpy_stl-3.2.0-py3-none-any.whl.metadata (18 kB)\n",
            "Requirement already satisfied: numpy in /usr/local/lib/python3.11/dist-packages (from numpy-stl) (2.0.2)\n",
            "Requirement already satisfied: python-utils>=3.4.5 in /usr/local/lib/python3.11/dist-packages (from numpy-stl) (3.9.1)\n",
            "Requirement already satisfied: typing_extensions>3.10.0.2 in /usr/local/lib/python3.11/dist-packages (from python-utils>=3.4.5->numpy-stl) (4.14.1)\n",
            "Downloading numpy_stl-3.2.0-py3-none-any.whl (20 kB)\n",
            "Installing collected packages: numpy-stl\n",
            "Successfully installed numpy-stl-3.2.0\n"
          ]
        }
      ],
      "source": [
        "!pip install numpy-stl"
      ]
    },
    {
      "cell_type": "code",
      "source": [
        "import numpy as np\n",
        "from stl import mesh\n",
        "\n",
        "# Function to perform the analysis\n",
        "def analyze_stl_model(file_path):\n",
        "    \"\"\"\n",
        "    Loads an STL file and generates a report on its key properties.\n",
        "    \"\"\"\n",
        "    try:\n",
        "        # Load the STL file\n",
        "        your_mesh = mesh.Mesh.from_file(file_path)\n",
        "\n",
        "        # Get mass properties (volume, center of gravity, inertia)\n",
        "        volume, cog, inertia = your_mesh.get_mass_properties()\n",
        "\n",
        "        # Calculate surface area by summing the areas of all triangles\n",
        "        # Note: The 'areas' attribute is a numpy array of each triangle's area.\n",
        "        surface_area = your_mesh.areas.sum()\n",
        "\n",
        "        # Count number of triangles (faces)\n",
        "        num_triangles = len(your_mesh.vectors)\n",
        "\n",
        "        # Get the bounding box dimensions\n",
        "        min_coords = your_mesh.vectors.min(axis=0).min(axis=0)\n",
        "        max_coords = your_mesh.vectors.max(axis=0).max(axis=0)\n",
        "        dimensions = max_coords - min_coords\n",
        "\n",
        "        length = dimensions[0]\n",
        "        width = dimensions[1]\n",
        "        height = dimensions[2]\n",
        "\n",
        "        # Format and print the report\n",
        "        print(f\"--- Analysis Report for: {file_path} ---\")\n",
        "        print(f\"Total Number of Triangles: {num_triangles:,}\")\n",
        "        print(f\"Total Surface Area: {surface_area:,.2f} sq. units\")\n",
        "        print(f\"Total Volume: {volume:,.2f} cubic units\")\n",
        "        print(\"\\n--- Bounding Box Dimensions ---\")\n",
        "        print(f\"Length (X-axis): {length:,.2f} units\")\n",
        "        print(f\"Width (Y-axis): {width:,.2f} units\")\n",
        "        print(f\"Height (Z-axis): {height:,.2f} units\")\n",
        "        print(\"-\" * 35)\n",
        "\n",
        "    except FileNotFoundError:\n",
        "        print(f\"Error: The file '{file_path}' was not found.\")\n",
        "    except Exception as e:\n",
        "        print(f\"An error occurred: {e}\")\n",
        "\n",
        "# Call the function with your file name\n",
        "file_name = \"/content/Fighter_Girl-Head.stl\"  # Make sure this is the correct file name\n",
        "analyze_stl_model(file_name)"
      ],
      "metadata": {
        "colab": {
          "base_uri": "https://localhost:8080/"
        },
        "id": "Xos5hFP9Z-my",
        "outputId": "e0a0454a-4597-44d3-b2e0-c85eac5cb58f"
      },
      "execution_count": 2,
      "outputs": [
        {
          "output_type": "stream",
          "name": "stdout",
          "text": [
            "--- Analysis Report for: /content/Fighter_Girl-Head.stl ---\n",
            "Total Number of Triangles: 221,190\n",
            "Total Surface Area: 6,189.16 sq. units\n",
            "Total Volume: 9,878.89 cubic units\n",
            "\n",
            "--- Bounding Box Dimensions ---\n",
            "Length (X-axis): 26.09 units\n",
            "Width (Y-axis): 41.21 units\n",
            "Height (Z-axis): 53.71 units\n",
            "-----------------------------------\n"
          ]
        }
      ]
    }
  ]
}